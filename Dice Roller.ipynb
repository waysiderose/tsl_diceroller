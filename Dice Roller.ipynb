{
 "cells": [
  {
   "cell_type": "markdown",
   "id": "finished-signal",
   "metadata": {},
   "source": [
    "# Thirsty Sword Lesbien Dice Roller\n"
   ]
  },
  {
   "cell_type": "markdown",
   "id": "artificial-hypothesis",
   "metadata": {},
   "source": [
    "This notebook is the test for an online dice roller that translates Powered by the Apocolypse dice rolls."
   ]
  },
  {
   "cell_type": "code",
   "execution_count": 1,
   "id": "gross-caution",
   "metadata": {},
   "outputs": [],
   "source": [
    "import random\n"
   ]
  },
  {
   "cell_type": "code",
   "execution_count": 11,
   "id": "paperback-reminder",
   "metadata": {},
   "outputs": [
    {
     "name": "stdout",
     "output_type": "stream",
     "text": [
      "Rolling dice...\n",
      "Your roll: 7\n",
      "Mid-Beat\n"
     ]
    }
   ],
   "source": [
    "dbeat = (1,2,3,4,5,6)\n",
    "mbeat = (7,8,9)\n",
    "ubeat = (10,11,12)\n",
    "\n",
    "def rolldice(min,max):\n",
    "    print(\"Rolling dice...\")\n",
    "    number = random.randint(min,max)\n",
    "    print(f\"Your roll: {number}\")\n",
    "    \n",
    "\n",
    "    if number in dbeat:\n",
    "        return print(\"Downbeat\")\n",
    "    if number in mbeat:\n",
    "        return print(\"Mid-Beat\")\n",
    "    if number in ubeat:\n",
    "        return print(\"Up-Beat\")\n",
    "\n",
    "rolldice(1,12)"
   ]
  }
 ],
 "metadata": {
  "kernelspec": {
   "display_name": "Python 3",
   "language": "python",
   "name": "python3"
  },
  "language_info": {
   "codemirror_mode": {
    "name": "ipython",
    "version": 3
   },
   "file_extension": ".py",
   "mimetype": "text/x-python",
   "name": "python",
   "nbconvert_exporter": "python",
   "pygments_lexer": "ipython3",
   "version": "3.8.2"
  }
 },
 "nbformat": 4,
 "nbformat_minor": 5
}
