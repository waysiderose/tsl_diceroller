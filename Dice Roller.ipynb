{
 "cells": [
  {
   "cell_type": "markdown",
   "id": "finished-signal",
   "metadata": {},
   "source": [
    "# Thirsty Sword Lesbian Dice Roller\n",
    "\n",
    "\n",
    "This notebook is the test for an online dice roller that translates Powered by the Apocolypse dice rolls. Learn more:  https://www.evilhat.com/home/thirsty-sword-lesbians/"
   ]
  },
  {
   "cell_type": "markdown",
   "id": "pointed-affiliation",
   "metadata": {},
   "source": [
    "## Types of Rolls\n",
    "\n",
    "Rolls determine the outcome of an action. They come in one of three types: upbeat, mixed-beat, and downbeat.\n",
    "\n",
    "- 1-6: Downbeat\n",
    "- 7-9: Mixed-beat\n",
    "- 10-12: Upbeat\n",
    "\n",
    "**Downbeasts**: \n",
    "A consequence happens in response to the move - not necessarily a failure.\n",
    "\n",
    "**Mixed-Beats**: \n",
    "Middling success, where players can choose some options from the move's success list. \n",
    "\n",
    "**Upbeats**: \n",
    "Absolute success, where players can choose many options from the move's success list."
   ]
  },
  {
   "cell_type": "code",
   "execution_count": 2,
   "id": "educated-kidney",
   "metadata": {},
   "outputs": [],
   "source": [
    "import random\n",
    "\n",
    "dbeat = (1,2,3,4,5,6)\n",
    "mbeat = (7,8,9)\n",
    "ubeat = (10,11,12)\n",
    "\n",
    "def rolldice(min,max):\n",
    "    print(\"Rolling dice...\")\n",
    "    number = random.randint(min,max)\n",
    "    print(f\"Your roll: {number}\")\n",
    "    \n",
    "\n",
    "    if number in dbeat:\n",
    "        return print(\"Downbeat\")\n",
    "    if number in mbeat:\n",
    "        return print(\"Mixed-Beat\")\n",
    "    if number in ubeat:\n",
    "        return print(\"Up-Beat\")"
   ]
  },
  {
   "cell_type": "code",
   "execution_count": 4,
   "id": "amber-mediterranean",
   "metadata": {},
   "outputs": [
    {
     "name": "stdout",
     "output_type": "stream",
     "text": [
      "Rolling dice...\n",
      "Your roll: 6\n",
      "Downbeat\n"
     ]
    }
   ],
   "source": [
    "rolldice(1,12)"
   ]
  }
 ],
 "metadata": {
  "kernelspec": {
   "display_name": "Python 3",
   "language": "python",
   "name": "python3"
  },
  "language_info": {
   "codemirror_mode": {
    "name": "ipython",
    "version": 3
   },
   "file_extension": ".py",
   "mimetype": "text/x-python",
   "name": "python",
   "nbconvert_exporter": "python",
   "pygments_lexer": "ipython3",
   "version": "3.8.2"
  }
 },
 "nbformat": 4,
 "nbformat_minor": 5
}
